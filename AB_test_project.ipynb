{
 "cells": [
  {
   "cell_type": "markdown",
   "metadata": {},
   "source": [
    "# Gusethous booking A/B test "
   ]
  },
  {
   "cell_type": "markdown",
   "metadata": {},
   "source": [
    "This is a project to measure the online guesthouse booking experience\n",
    "\n",
    "\n",
    "as follows: a guest finds an available room (listing) that she likes, and she then contacts the host. There are three ways to send an inquiry \n",
    "­ a contact\n",
    "­a booking request, or \n",
    "­instant book ­ \n",
    "\n",
    "detailed at the bottom of this document. Upon receiving the inquiry, the host can then decide whether or not to say yes to the request (accept the request). However, the host may not accept a guest for many reasons. Some might be logistical, e.g. dates do not work in the calendar, and some may be more personal, e.g. the guest seems risky. Our goal is to help our guests maximize their likelihood of being accepted by the hosts they contact. \n",
    "\n",
    "\n",
    "Suppose we run an experiment where we require the guest to write a message that is at least 140 characters long to explain why he or she is interested in staying with the host, and we run this as a 50­50 experiment (50% in treatment, 50% in control). We then look at data on the contacts and bookings of users in the treatment group compared to the control group. We are interested in what happens to the experience of contacting and booking a place on Airbnb when the guest is required to write a message like this. We are also looking for suggestions for evaluating the future of this change. Should we launch the experiment to everyone or stop it? How would you explain the results and the decision to someone who was not highly technical? \n",
    "Using the (fabricated) experiment assignment and the contact and booking data attached, please provide analysis + write­up to answer these questions. \n"
   ]
  },
  {
   "cell_type": "markdown",
   "metadata": {},
   "source": [
    "## data provided "
   ]
  },
  {
   "cell_type": "markdown",
   "metadata": {},
   "source": [
    "Assignments ­ contains a row for every time that a user gets assigned to an treatment group. ",
    "\n",
    "* id_user ­ random id of the user.  ",
    "\n",
    "  \n",
    "* ab ­ The experimental group the user is assigned to. \n",
    "\n",
    "Contacts ­ contains a row for every time that a user makes an inquiry ",
    "* id_guest ­ random id of the guest (user) making the inquiry. Can be linked to id_user. ",
    "\n",
    "\n",
    "\n",
    "id_host ­ random id of the host (user) of the listing to which the inquiry is made. ",
    "\n",
    "\n",
    "\n",
    " id_listing ­ random id of the listing to which the inquiry is made. ",
    "* \n",
    " \n",
    "ts_interaction_first ­ UTC timestamp of the moment the inquiry is made. ",
    "\n",
    " \n",
    "ts_reply_at_first ­ UTC timestamp of the moment the host replies to the inquiry, if so. If missing, there is no reply. ",
    "\n",
    "\n",
    "ts_accepted_at_first ­ UTC timestamp of the moment the host accepts the inquiry, if so. If missing, there is no acceptance. ",
    "\n",
    "\n",
    "ts_booking_at ­ UTC timestamp of the moment the booking is made, if so. If missing, there is no booking. ",
    "\n",
    "\n",
    "dim_contact_channel_first ­ The contact channel through which the inquiry was made. One of {contact_me, book_it, instant_book}. ",
    "*\n",
    "\n",
    "\n",
    "m_first_message_length ­ length of the message the guest sent the host, in characters. If missing then there was no message. "
   ]
  },
  {
   "cell_type": "markdown",
   "metadata": {},
   "source": [
    "## Some things to keep in mind: "
   ]
  },
  {
   "cell_type": "markdown",
   "metadata": {},
   "source": [
    "There are three ways to book a place: ",
    "\n",
    "\n",
    "1. contact_me ­ The guests writes a message to the host to inquire about the listing. The host has the option to pre­approve the guest to book their place, or they can reject, or they can write a free text message with no explicit acceptance or rejection. If the host pre­approves, the guest can then go ahead and click to make the booking.\n",
    "\n",
    "\n",
    "2. book_it ­ The guest puts money down to book the place directly, but the host has to accept the reservation request. If the host accepts, the booking happens automatically. \n",
    "\n",
    "\n",
    "3. instant_book ­ The guest books the listing directly, without any need for the host to accept or reject actively (it is an auto­accept by the host). \n"
   ]
  },
  {
   "cell_type": "markdown",
   "metadata": {},
   "source": [
    "# Part1: loading and observing data"
   ]
  },
  {
   "cell_type": "code",
   "execution_count": 1,
   "metadata": {},
   "outputs": [
    {
     "data": {
      "text/plain": [
       "id_guest                  10000\n",
       "id_host                   10000\n",
       "id_listing                10000\n",
       "ts_interaction_first      10000\n",
       "ts_reply_at_first          8571\n",
       "ts_accepted_at_first       3363\n",
       "ts_booking_at              2171\n",
       "dim_contact_channel       10000\n",
       "m_first_message_length     9883\n",
       "dtype: int64"
      ]
     },
     "execution_count": 1,
     "metadata": {},
     "output_type": "execute_result"
    }
   ],
   "source": [
    "import numpy as np\n",
    "import pandas as pd\n",
    "\n",
    "df = pd.read_csv(\"/Users/dx/Desktop/Linkedin_project/AB_test_project/takehome_contacts.csv\")\n",
    "df.count()"
   ]
  },
  {
   "cell_type": "code",
   "execution_count": 2,
   "metadata": {},
   "outputs": [
    {
     "data": {
      "text/plain": [
       "id_user    10000\n",
       "ab         10000\n",
       "dtype: int64"
      ]
     },
     "execution_count": 2,
     "metadata": {},
     "output_type": "execute_result"
    }
   ],
   "source": [
    "ab_test = pd.read_csv(\"/Users/dx/Desktop/Linkedin_project/AB_test_project/takehome_assignments.csv\")\n",
    "ab_test.count()"
   ]
  },
  {
   "cell_type": "markdown",
   "metadata": {},
   "source": [
    "we should drop duplicates of the ab test data"
   ]
  },
  {
   "cell_type": "code",
   "execution_count": 3,
   "metadata": {},
   "outputs": [
    {
     "data": {
      "text/plain": [
       "id_user    9487\n",
       "ab         9487\n",
       "dtype: int64"
      ]
     },
     "execution_count": 3,
     "metadata": {},
     "output_type": "execute_result"
    }
   ],
   "source": [
    "ab_test = ab_test.drop_duplicates()\n",
    "ab_test.count()"
   ]
  },
  {
   "cell_type": "code",
   "execution_count": 4,
   "metadata": {},
   "outputs": [
    {
     "data": {
      "text/plain": [
       "id_guest                  10896\n",
       "id_host                   10896\n",
       "id_listing                10896\n",
       "ts_interaction_first      10896\n",
       "ts_reply_at_first          9301\n",
       "ts_accepted_at_first       3570\n",
       "ts_booking_at              2265\n",
       "dim_contact_channel       10896\n",
       "m_first_message_length    10774\n",
       "ab                        10896\n",
       "dtype: int64"
      ]
     },
     "execution_count": 4,
     "metadata": {},
     "output_type": "execute_result"
    }
   ],
   "source": [
    "df = df.join(ab_test.set_index('id_user'), on = 'id_guest')\n",
    "df.count()"
   ]
  },
  {
   "cell_type": "markdown",
   "metadata": {},
   "source": [
    "Looks liker we still got some problems, we need to find them"
   ]
  },
  {
   "cell_type": "code",
   "execution_count": 5,
   "metadata": {},
   "outputs": [
    {
     "data": {
      "text/plain": [
       "<Figure size 640x480 with 1 Axes>"
      ]
     },
     "metadata": {},
     "output_type": "display_data"
    }
   ],
   "source": [
    "import matplotlib.pyplot as plt\n",
    "df.m_first_message_length.hist()\n",
    "plt.show()"
   ]
  },
  {
   "cell_type": "code",
   "execution_count": 6,
   "metadata": {},
   "outputs": [
    {
     "data": {
      "text/plain": [
       "<bound method DataFrame.describe of                                   id_guest  \\\n",
       "0     f966752c-8533-48b2-af6f-8c6797d2b247   \n",
       "1     873f93fb-234c-4cfb-83c7-27ff0e582a8e   \n",
       "2     7308791e-04c3-416a-be2d-4188816decc2   \n",
       "3     097c48a4-f4b6-4870-bf29-370e33de868e   \n",
       "4     6ff7a902-541b-4eee-ace4-673262b95a94   \n",
       "4     6ff7a902-541b-4eee-ace4-673262b95a94   \n",
       "5     ff3d6a6a-7748-41f8-8a3f-fdc26ca21650   \n",
       "6     29aa3e61-fefe-476b-a3c2-13c73bdabcc9   \n",
       "7     c494e78e-7466-47ef-b5ba-c630f1a7f39c   \n",
       "8     43b3e096-66d3-4d44-a1f7-116452df35fd   \n",
       "9     c24131a1-10bc-4d16-9425-4390ff2fe74c   \n",
       "10    7bd7d2b5-040c-4a72-8bba-7bd8da14cb7f   \n",
       "11    ef804f0b-21a7-46d0-ae91-da812a72f763   \n",
       "11    ef804f0b-21a7-46d0-ae91-da812a72f763   \n",
       "12    9e4e506e-29c8-421b-acac-ca6ee984e9a2   \n",
       "13    ae47170c-b631-46bb-b8d5-37c1f2797de1   \n",
       "14    85fb715e-fc0f-49ac-832d-b20015cbbea4   \n",
       "15    75b02483-b183-401b-91a5-a9bd3339e607   \n",
       "16    b27d82bb-f8f6-4da3-bcd0-b206574ab78d   \n",
       "17    ee0a90f6-e3f5-4b54-8c44-50dcded92f08   \n",
       "18    ee0a90f6-e3f5-4b54-8c44-50dcded92f08   \n",
       "19    700a4f22-3079-422b-88fe-f40d3c4a16f9   \n",
       "19    700a4f22-3079-422b-88fe-f40d3c4a16f9   \n",
       "20    47d23726-0d3e-417d-930e-c2c039ae33c7   \n",
       "21    092642d6-3f49-4b45-bd12-df1f76f04e72   \n",
       "22    9977fab9-2d49-4072-aec1-47af311df280   \n",
       "23    0bb81f3b-5338-4366-b703-114a163a2e4a   \n",
       "24    e30fddad-04f2-4ed5-9b36-f097a608f8e0   \n",
       "25    3ec6f772-9416-4412-a3a2-9e14c07077c6   \n",
       "26    6b65ee53-a473-4ca6-a126-851723cc77f6   \n",
       "...                                    ...   \n",
       "9972  217cce11-475f-46f1-84ff-fe683f1e1663   \n",
       "9973  f10e4ab3-3b4a-4e92-87c1-c49d9c0b5319   \n",
       "9974  793e4b89-ebce-4219-8700-4e74b07e5624   \n",
       "9975  863992ce-3243-4194-940a-47b8a57e5e2b   \n",
       "9976  22400722-ebf6-45b0-a09d-77fd02691e50   \n",
       "9977  c696dfde-3e8b-4e93-9687-c6d0d50ba474   \n",
       "9978  33507cc5-e2b6-4c03-b277-72152bcae21e   \n",
       "9979  7843cc62-7b03-4d99-a750-32b3b5dae5a1   \n",
       "9980  544b6d55-463c-4cd0-8f73-54a3bcec509d   \n",
       "9981  0d2b00e3-d724-4564-bf54-52fafa984f11   \n",
       "9981  0d2b00e3-d724-4564-bf54-52fafa984f11   \n",
       "9982  af819a00-5edb-4881-876d-2988cc3058d5   \n",
       "9983  dc78b598-2475-4e57-b53b-909133987f74   \n",
       "9984  ebacfb9e-4fa9-48d1-b9ea-c6353d0851fa   \n",
       "9985  692212d9-0954-41c7-b9a4-89888152722d   \n",
       "9985  692212d9-0954-41c7-b9a4-89888152722d   \n",
       "9986  fb816172-1351-4a52-91da-c076f5d37df3   \n",
       "9987  ebd6a873-7338-48d0-aa70-54963afe5079   \n",
       "9988  effb59b1-f3ab-44d8-876e-396c32a0fefa   \n",
       "9989  ef905b29-1204-476e-a100-344801add390   \n",
       "9990  b9ff6b56-2883-4b98-b315-b5bf60890a60   \n",
       "9991  8ec5765e-8322-4b69-bdf0-3c97dc1d05f6   \n",
       "9992  a0651800-5226-4344-8956-bd90f62bd6ae   \n",
       "9993  47dacc41-79d6-40c8-bc70-a77343dc5b45   \n",
       "9994  dd25fa36-b0ba-4c0d-81f4-892ac3651470   \n",
       "9995  6a72582e-c0c4-4f37-a824-186bde0b3d47   \n",
       "9996  d838c86d-fdbf-4a36-a57c-2d518c60ce92   \n",
       "9997  15da69de-49dd-4ba8-97d6-0919fdaf3834   \n",
       "9998  e6c5dd5d-5fef-4b16-a7e6-37fa8cee3b43   \n",
       "9999  62a2e3da-05a1-400f-853f-394ada92ea1b   \n",
       "\n",
       "                                   id_host  \\\n",
       "0     4405ab66-1c68-449b-abd9-1ad1892a6c4d   \n",
       "1     aa41b57b-e29f-4c95-bf27-48f27519e419   \n",
       "2     8b118ba1-b439-493e-88c7-2c89a81cec1b   \n",
       "3     140b0847-549d-4c77-bb8c-7cea16914871   \n",
       "4     3633b49c-9f63-499d-a9b1-f1e686832e7b   \n",
       "4     3633b49c-9f63-499d-a9b1-f1e686832e7b   \n",
       "5     82bc1dd7-e146-4c03-93ef-1edd143e4612   \n",
       "6     aaeb0f07-c98a-4eb9-886d-1a1f9c360ea1   \n",
       "7     73070436-0f12-497e-b130-bc27d90d63df   \n",
       "8     1b326e04-5f11-42e9-b5d8-e49d5b7633c3   \n",
       "9     c88aa39e-281c-4499-b29c-4d4bb65d1f55   \n",
       "10    8903a438-9f2d-4b6f-b27f-ca896e0420ca   \n",
       "11    a52c564f-ac9e-4e5c-91e9-d9c3e4782893   \n",
       "11    a52c564f-ac9e-4e5c-91e9-d9c3e4782893   \n",
       "12    044ff4a0-f7c2-4cc7-8254-b61f4aea1816   \n",
       "13    e4d5dc4d-30d1-44d1-89e5-331d08237278   \n",
       "14    a33a37a3-3229-40f9-817c-8a42b835010b   \n",
       "15    dc9263e2-85cc-461f-a06b-2426d75f069b   \n",
       "16    491c6aa8-8344-461e-94e4-76ad39af5500   \n",
       "17    a33a37a3-3229-40f9-817c-8a42b835010b   \n",
       "18    1f69d93b-184f-4937-998d-949fee6639a9   \n",
       "19    6fc1087d-b5f1-4361-9dbe-a8f438cca596   \n",
       "19    6fc1087d-b5f1-4361-9dbe-a8f438cca596   \n",
       "20    4ef5b3a2-97f3-4048-b44f-ab14aa2abe5f   \n",
       "21    1707bdc2-a831-43ad-9030-6beabe71e2e8   \n",
       "22    0d67bc75-a32b-4621-b38f-d0a5b1527bce   \n",
       "23    7c6ea769-984a-43c4-b7c6-c97bf363e3a3   \n",
       "24    ff7c4bba-4e7a-4b3e-82f2-cfa29ccedb61   \n",
       "25    587b9082-a126-4161-a938-991179594ab2   \n",
       "26    74bc7cbd-ed43-42a9-9f2c-52b972ca9e66   \n",
       "...                                    ...   \n",
       "9972  3d68fea4-46da-40f6-a727-50eb4bec087b   \n",
       "9973  fd35cca9-4aea-490c-9766-bdc5433fcb7f   \n",
       "9974  7d4a9faf-b0d7-4b1b-bd20-f2ed71624e6c   \n",
       "9975  99dec64f-ff40-47ba-8496-55ba697fcff9   \n",
       "9976  2a59998e-c6c1-4f97-8b66-03c6c316b140   \n",
       "9977  31e7f414-394d-4f70-9c80-e0536ad461b7   \n",
       "9978  c97c9b99-4b97-42a9-96e6-37ab9f941251   \n",
       "9979  aa1e896b-2e86-4e7f-8b65-b929a33b5e3b   \n",
       "9980  6fd1fb4b-9f68-4229-a253-36e18014cefd   \n",
       "9981  7dc09a33-d5de-4fe0-9b06-7a02f2bfd85c   \n",
       "9981  7dc09a33-d5de-4fe0-9b06-7a02f2bfd85c   \n",
       "9982  573dc809-cab0-4b1a-b3ba-80d56179f54d   \n",
       "9983  5fce2454-63d8-4917-8332-74488b54d540   \n",
       "9984  28e7cd0c-2c38-4a2f-9170-4b04bd813f48   \n",
       "9985  b75ffffb-8ada-43bf-aa37-b99f878c6292   \n",
       "9985  b75ffffb-8ada-43bf-aa37-b99f878c6292   \n",
       "9986  6044670e-2d27-410d-8e66-75bf61a6eef6   \n",
       "9987  cb1814c3-4a8b-4436-8981-1fd8e934c665   \n",
       "9988  d2202c5c-486a-45e1-992f-e6924c2d5542   \n",
       "9989  9f319b9b-d5c2-4168-b10b-69fe174a1a29   \n",
       "9990  dbf6e36b-b34c-4cee-853f-2abea68bf958   \n",
       "9991  4d254861-b717-4a87-826c-4235b3382513   \n",
       "9992  14c131ba-0553-4c8f-9248-a3561c09c61d   \n",
       "9993  e9c0beff-d050-4e88-a6b1-12a251390da9   \n",
       "9994  a4401307-3223-4d6b-bc87-afe72a393c52   \n",
       "9995  7af1bb56-a2aa-4c2e-8793-be2d4b736599   \n",
       "9996  5059ad3c-c378-4875-b558-0d20ea30bebc   \n",
       "9997  ec1a2c76-adfb-4f2c-9f1d-1688a6a1bfeb   \n",
       "9998  dbf6e36b-b34c-4cee-853f-2abea68bf958   \n",
       "9999  90b3f6ed-b97b-4ad6-9d0d-30fede4dddd4   \n",
       "\n",
       "                                id_listing ts_interaction_first  \\\n",
       "0     fe07e0c4-c317-44bc-a82d-5b599a248049  2013-01-01 23:04:35   \n",
       "1     d47717da-315a-42c2-8888-9b7d4bea8829  2013-01-02 00:21:26   \n",
       "2     ac231804-951c-4fcb-a0e6-1a4aecbfb6ce  2013-01-02 02:30:19   \n",
       "3     727357bd-8031-4e59-b812-22cfa617e031  2013-01-02 03:24:06   \n",
       "4     97c8c06a-0b01-45d1-b9b4-5771aa919f67  2013-01-02 07:11:43   \n",
       "4     97c8c06a-0b01-45d1-b9b4-5771aa919f67  2013-01-02 07:11:43   \n",
       "5     aed82e29-205e-4827-a7ac-c5963c8a6895  2013-01-02 13:29:21   \n",
       "6     1a7bf2df-75f1-4c01-9cd6-6abfd5a233fa  2013-01-02 13:42:55   \n",
       "7     c68c7d53-6d43-41c4-9240-f9cfc0fbefd2  2013-01-02 14:03:23   \n",
       "8     28483ea7-b24b-43e2-9583-12ca5b8047c7  2013-01-02 16:49:34   \n",
       "9     72311c4b-cb38-4186-a85e-790706f72e7b  2013-01-02 19:56:11   \n",
       "10    6a956576-361c-4ba8-99af-6cb0fdcac018  2013-01-02 21:21:33   \n",
       "11    cbb82bbf-ce59-422a-b03a-2fb5a5c26d04  2013-01-02 22:02:21   \n",
       "11    cbb82bbf-ce59-422a-b03a-2fb5a5c26d04  2013-01-02 22:02:21   \n",
       "12    6c326e8f-79fb-4c38-a092-5996e386be52  2013-01-02 22:15:44   \n",
       "13    bc165e06-8e9f-4e4f-bcf1-87f0ed023284  2013-01-03 02:48:14   \n",
       "14    b462762e-5191-4f41-9be4-3e07a656f46a  2013-01-03 11:57:48   \n",
       "15    c4c0ec66-c90c-469c-b548-dbac38578865  2013-01-03 16:48:16   \n",
       "16    b006086c-b728-4afb-8752-c2762ff2eb8a  2013-01-03 16:58:29   \n",
       "17    7f908fca-ccee-43f8-9026-76b912e6b546  2013-01-03 21:12:13   \n",
       "18    59080b26-29fc-489a-8e34-c030dbea07c4  2013-01-03 21:33:59   \n",
       "19    803fbfec-5725-44c7-9ca9-5b205c2a589f  2013-01-03 21:42:57   \n",
       "19    803fbfec-5725-44c7-9ca9-5b205c2a589f  2013-01-03 21:42:57   \n",
       "20    e610531b-cad9-4bc0-b766-d0d97931c4ef  2013-01-04 03:39:28   \n",
       "21    630fefdb-2623-4858-8fef-4e09ede80518  2013-01-04 08:04:16   \n",
       "22    360aaf57-8ec9-47d9-b982-6e811b07e25e  2013-01-05 00:07:26   \n",
       "23    367f3436-1ba4-46d6-86fb-66693241fbf3  2013-01-05 16:17:09   \n",
       "24    e41abd19-6bc8-4b94-b3ec-dd3fc464b191  2013-01-05 17:40:50   \n",
       "25    467021d7-bf27-414a-8525-e805e2c9f31a  2013-01-05 18:31:52   \n",
       "26    822c554f-5e7d-4448-9837-4af251767739  2013-01-06 02:52:14   \n",
       "...                                    ...                  ...   \n",
       "9972  0aa7e5ef-4458-4b1d-9ded-a9bad657a824  2013-06-03 03:01:53   \n",
       "9973  3aa158fd-e331-47f1-8916-184a89ea7020  2013-06-03 05:00:46   \n",
       "9974  38cd425c-e9ee-426d-90f2-0f5ecf757260  2013-06-03 08:29:01   \n",
       "9975  d73dc43f-e312-46ed-9769-52bc60b00c13  2013-06-03 11:04:05   \n",
       "9976  649b836e-115d-4275-b2a1-4c757c5cadc1  2013-06-03 20:22:23   \n",
       "9977  0344d063-66d7-489f-97f5-6d9f6a183af0  2013-06-03 23:06:20   \n",
       "9978  df0cd98b-0374-4a74-b14e-b93594de38f6  2013-06-04 03:22:50   \n",
       "9979  abfa32ac-375d-431e-afd7-b494df5aa34b  2013-06-04 04:32:03   \n",
       "9980  4f614a0a-5e35-499c-9ca9-ed7b8b57ace2  2013-06-04 14:20:19   \n",
       "9981  dbf720fd-660f-473a-b32e-019d29414d86  2013-06-04 20:33:01   \n",
       "9981  dbf720fd-660f-473a-b32e-019d29414d86  2013-06-04 20:33:01   \n",
       "9982  2b919b40-a7ac-4deb-8c63-721c9a713d13  2013-06-05 00:21:04   \n",
       "9983  c1331d40-47b9-4e8b-b491-204b827f5d01  2013-06-05 06:08:38   \n",
       "9984  5ed6e762-e593-4537-b531-d5f7e4b9f372  2013-06-05 07:10:05   \n",
       "9985  ef089d17-77c4-4f74-867f-58800a96756b  2013-06-05 09:14:02   \n",
       "9985  ef089d17-77c4-4f74-867f-58800a96756b  2013-06-05 09:14:02   \n",
       "9986  f90e1e12-35f1-451c-9e13-bd7b6f41ff70  2013-06-05 13:37:12   \n",
       "9987  b16b719c-2cfa-4de7-be01-cb26942d2731  2013-06-05 14:46:26   \n",
       "9988  b3933cdc-9487-44a0-a175-de0295601d3d  2013-06-05 15:50:46   \n",
       "9989  5952a3b4-1866-41b4-8988-494a56c4e291  2013-06-05 17:41:29   \n",
       "9990  0b3b6077-3748-4538-8812-da021dd4c83b  2013-06-05 17:51:08   \n",
       "9991  690e214c-032e-482e-b42a-42af7f4c2f1c  2013-06-05 18:02:16   \n",
       "9992  47d9b841-c239-4d5c-8c4d-6bac23e70ff1  2013-06-06 00:20:58   \n",
       "9993  a0b5ea28-09bf-449d-aa12-41f41c005fcb  2013-06-06 02:27:01   \n",
       "9994  cd35e216-ca4b-485a-90e5-dd2beb1d1d89  2013-06-06 04:38:20   \n",
       "9995  82c15b61-f426-4d1a-a413-14f36d6a9b07  2013-06-06 05:57:33   \n",
       "9996  26b9a8e8-7010-4694-85d7-b6af24346040  2013-06-06 13:00:25   \n",
       "9997  c6fe66cf-d0be-48c0-80d0-0f6422eb676a  2013-06-06 13:57:41   \n",
       "9998  0b3b6077-3748-4538-8812-da021dd4c83b  2013-06-06 15:28:21   \n",
       "9999  75f17435-6631-4f7d-8e0c-a872445c926e  2013-06-06 15:34:57   \n",
       "\n",
       "          ts_reply_at_first   ts_accepted_at_first          ts_booking_at  \\\n",
       "0     2013-01-03 23:15:23.0                    NaN                    NaN   \n",
       "1     2013-01-07 23:38:31.0                    NaN                    NaN   \n",
       "2     2013-01-02 18:06:10.0  2013-01-02 18:06:10.0                    NaN   \n",
       "3     2013-01-02 17:49:08.0                    NaN                    NaN   \n",
       "4     2013-01-02 08:56:39.0  2013-01-02 08:56:39.0                    NaN   \n",
       "4     2013-01-02 08:56:39.0  2013-01-02 08:56:39.0                    NaN   \n",
       "5     2013-01-22 20:19:54.0                    NaN                    NaN   \n",
       "6     2013-01-02 19:44:27.0                    NaN                    NaN   \n",
       "7     2013-01-04 07:19:35.0                    NaN                    NaN   \n",
       "8     2013-01-03 00:01:24.0                    NaN                    NaN   \n",
       "9     2013-01-02 22:22:46.0                    NaN                    NaN   \n",
       "10    2013-01-03 18:30:31.0  2013-01-03 18:32:01.0  2013-01-03 18:32:01.0   \n",
       "11    2013-01-03 16:00:48.0                    NaN                    NaN   \n",
       "11    2013-01-03 16:00:48.0                    NaN                    NaN   \n",
       "12    2013-01-02 22:52:13.0  2013-01-02 22:52:13.0  2013-01-02 22:52:13.0   \n",
       "13    2013-01-03 02:48:42.0                    NaN                    NaN   \n",
       "14    2013-01-03 17:30:51.0  2013-01-03 17:30:51.0  2013-01-03 23:07:44.0   \n",
       "15    2013-01-04 01:12:50.0                    NaN                    NaN   \n",
       "16    2013-01-03 17:00:23.0                    NaN                    NaN   \n",
       "17    2013-01-03 21:34:57.0  2013-01-03 21:34:57.0                    NaN   \n",
       "18    2013-01-07 20:58:57.0                    NaN                    NaN   \n",
       "19    2013-01-03 21:46:57.0  2013-01-03 21:46:57.0                    NaN   \n",
       "19    2013-01-03 21:46:57.0  2013-01-03 21:46:57.0                    NaN   \n",
       "20    2013-01-04 03:57:57.0  2013-01-04 03:57:57.0                    NaN   \n",
       "21                      NaN                    NaN                    NaN   \n",
       "22    2013-01-05 01:07:16.0  2013-01-05 01:07:16.0  2013-01-05 01:07:16.0   \n",
       "23    2013-01-06 20:03:24.0                    NaN                    NaN   \n",
       "24    2013-01-05 19:19:13.0                    NaN                    NaN   \n",
       "25    2013-01-28 04:24:15.0                    NaN                    NaN   \n",
       "26                      NaN                    NaN                    NaN   \n",
       "...                     ...                    ...                    ...   \n",
       "9972  2013-06-03 21:15:19.0  2013-06-03 21:18:05.0  2013-06-04 06:07:15.0   \n",
       "9973  2013-06-03 15:35:00.0                    NaN                    NaN   \n",
       "9974  2013-06-12 05:09:18.0                    NaN                    NaN   \n",
       "9975  2013-06-04 21:52:34.0                    NaN                    NaN   \n",
       "9976  2013-06-04 00:58:42.0  2013-06-04 00:58:42.0  2013-06-04 04:00:47.0   \n",
       "9977  2013-06-03 23:07:22.0  2013-06-04 01:07:44.0  2013-06-04 01:07:44.0   \n",
       "9978  2013-06-04 03:24:04.0  2013-06-04 03:24:04.0                    NaN   \n",
       "9979  2013-06-04 04:55:57.0  2013-06-04 06:37:28.0  2013-06-04 06:37:28.0   \n",
       "9980  2013-06-04 17:42:05.0                    NaN                    NaN   \n",
       "9981                    NaN                    NaN                    NaN   \n",
       "9981                    NaN                    NaN                    NaN   \n",
       "9982  2013-06-05 01:34:36.0  2013-06-05 01:34:36.0                    NaN   \n",
       "9983  2013-06-05 14:55:01.0                    NaN                    NaN   \n",
       "9984  2013-06-05 12:15:02.0                    NaN                    NaN   \n",
       "9985  2013-06-05 15:10:29.0                    NaN                    NaN   \n",
       "9985  2013-06-05 15:10:29.0                    NaN                    NaN   \n",
       "9986  2013-06-06 19:15:12.0                    NaN                    NaN   \n",
       "9987  2013-06-14 17:07:07.0                    NaN                    NaN   \n",
       "9988  2013-06-05 15:50:24.0                    NaN                    NaN   \n",
       "9989  2013-06-05 18:44:27.0  2013-06-05 20:32:10.0  2013-06-08 17:18:47.0   \n",
       "9990  2013-06-07 06:10:20.0  2013-06-07 06:10:20.0                    NaN   \n",
       "9991  2013-06-05 19:57:03.0                    NaN                    NaN   \n",
       "9992  2013-06-06 21:38:30.0  2013-06-06 21:38:30.0  2013-06-06 21:38:30.0   \n",
       "9993                    NaN                    NaN                    NaN   \n",
       "9994                    NaN                    NaN                    NaN   \n",
       "9995  2013-06-06 06:06:37.0                    NaN                    NaN   \n",
       "9996  2013-06-07 21:43:02.0                    NaN                    NaN   \n",
       "9997                    NaN                    NaN                    NaN   \n",
       "9998                    NaN                    NaN                    NaN   \n",
       "9999                    NaN                    NaN                    NaN   \n",
       "\n",
       "     dim_contact_channel  m_first_message_length         ab  \n",
       "0             contact_me                   230.0  treatment  \n",
       "1             contact_me                    98.0  treatment  \n",
       "2             contact_me                   278.0    control  \n",
       "3             contact_me                   785.0    control  \n",
       "4             contact_me                    69.0    control  \n",
       "4             contact_me                    69.0  treatment  \n",
       "5             contact_me                   623.0    control  \n",
       "6             contact_me                   144.0  treatment  \n",
       "7             contact_me                   287.0    control  \n",
       "8             contact_me                  1033.0    control  \n",
       "9             contact_me                   390.0  treatment  \n",
       "10               book_it                   205.0  treatment  \n",
       "11            contact_me                   153.0    control  \n",
       "11            contact_me                   153.0  treatment  \n",
       "12               book_it                   365.0  treatment  \n",
       "13            contact_me                   327.0    control  \n",
       "14            contact_me                   712.0    control  \n",
       "15            contact_me                   146.0    control  \n",
       "16            contact_me                   254.0    control  \n",
       "17            contact_me                   201.0  treatment  \n",
       "18            contact_me                   124.0  treatment  \n",
       "19            contact_me                   381.0    control  \n",
       "19            contact_me                   381.0  treatment  \n",
       "20            contact_me                   345.0  treatment  \n",
       "21            contact_me                   302.0  treatment  \n",
       "22               book_it                   272.0  treatment  \n",
       "23            contact_me                   401.0  treatment  \n",
       "24            contact_me                   354.0  treatment  \n",
       "25            contact_me                   501.0  treatment  \n",
       "26            contact_me                   434.0    control  \n",
       "...                  ...                     ...        ...  \n",
       "9972          contact_me                   201.0    control  \n",
       "9973          contact_me                   149.0  treatment  \n",
       "9974          contact_me                   216.0    control  \n",
       "9975          contact_me                   710.0  treatment  \n",
       "9976          contact_me                   366.0  treatment  \n",
       "9977          contact_me                   107.0    control  \n",
       "9978          contact_me                   331.0  treatment  \n",
       "9979          contact_me                   436.0  treatment  \n",
       "9980          contact_me                   192.0  treatment  \n",
       "9981          contact_me                   263.0  treatment  \n",
       "9981          contact_me                   263.0    control  \n",
       "9982          contact_me                    55.0  treatment  \n",
       "9983          contact_me                   117.0  treatment  \n",
       "9984          contact_me                   199.0  treatment  \n",
       "9985          contact_me                   728.0    control  \n",
       "9985          contact_me                   728.0  treatment  \n",
       "9986          contact_me                   539.0    control  \n",
       "9987          contact_me                   140.0  treatment  \n",
       "9988          contact_me                   117.0  treatment  \n",
       "9989          contact_me                   134.0  treatment  \n",
       "9990          contact_me                   268.0    control  \n",
       "9991          contact_me                   398.0    control  \n",
       "9992             book_it                   428.0    control  \n",
       "9993          contact_me                   359.0    control  \n",
       "9994          contact_me                   219.0  treatment  \n",
       "9995          contact_me                   227.0  treatment  \n",
       "9996          contact_me                   195.0  treatment  \n",
       "9997          contact_me                   481.0    control  \n",
       "9998          contact_me                   271.0    control  \n",
       "9999          contact_me                   252.0    control  \n",
       "\n",
       "[10896 rows x 10 columns]>"
      ]
     },
     "execution_count": 6,
     "metadata": {},
     "output_type": "execute_result"
    }
   ],
   "source": [
    "df.describe"
   ]
  },
  {
   "cell_type": "markdown",
   "metadata": {},
   "source": [
    "now the data cleaning is complete, next we gonna observe the data and try to get some conclusion"
   ]
  },
  {
   "cell_type": "markdown",
   "metadata": {},
   "source": [
    "# Part2: data observition"
   ]
  },
  {
   "cell_type": "code",
   "execution_count": 7,
   "metadata": {},
   "outputs": [
    {
     "name": "stdout",
     "output_type": "stream",
     "text": [
      "Experiment group\n",
      "dim_contact_channel\n",
      "Experiment group  dim_contact_channel\n",
      "control           contact_me             4488\n",
      "                  book_it                 936\n",
      "                  instant_booked           22\n",
      "treatment         contact_me             4482\n",
      "                  book_it                 946\n",
      "                  instant_booked           22\n",
      "Name: dim_contact_channel, dtype: int64\n"
     ]
    },
    {
     "data": {
      "text/plain": [
       "<matplotlib.legend.Legend at 0x11b8f1b10>"
      ]
     },
     "execution_count": 7,
     "metadata": {},
     "output_type": "execute_result"
    },
    {
     "data": {
      "image/png": "[encoded data removed]",
      "text/plain": [
       "<Figure size 432x288 with 1 Axes>"
      ]
     },
     "metadata": {
      "needs_background": "light"
     },
     "output_type": "display_data"
    }
   ],
   "source": [
    "df['Experiment group']=df.ab\n",
    "\n",
    "grp_col='Experiment group'\n",
    "col='dim_contact_channel'\n",
    "print grp_col\n",
    "print col\n",
    "grouped_contracts=df.groupby([grp_col])\n",
    "print grouped_contracts[col].value_counts()\n",
    "\n",
    "\n",
    "#use picture to plot them\n",
    "grouped_contracts[col].value_counts(2).unstack().plot(kind=\"bar\",rot='horizontal',\\\n",
    "                                    title='Percentage of ' + col + ' by' + grp_col )\n",
    "plt.legend(bbox_to_anchor=(1.05, 1), loc=2, borderaxespad=0)\n"
   ]
  },
  {
   "cell_type": "markdown",
   "metadata": {},
   "source": [
    "As we can see, the majority of booking is through contact_me, instant_booked is nearly neglible, beside, there are no distinctive difference between test and control team."
   ]
  },
  {
   "cell_type": "markdown",
   "metadata": {},
   "source": [
    "### next, we are gonna to define some binary outcomes then check them between treatment and control group"
   ]
  },
  {
   "cell_type": "code",
   "execution_count": 8,
   "metadata": {},
   "outputs": [
    {
     "data": {
      "text/plain": [
       "id_guest                  10896\n",
       "id_host                   10896\n",
       "id_listing                10896\n",
       "ts_interaction_first      10896\n",
       "ts_reply_at_first          9301\n",
       "ts_accepted_at_first       3570\n",
       "ts_booking_at              2265\n",
       "dim_contact_channel       10896\n",
       "m_first_message_length    10774\n",
       "ab                        10896\n",
       "Experiment group          10896\n",
       "dtype: int64"
      ]
     },
     "execution_count": 8,
     "metadata": {},
     "output_type": "execute_result"
    }
   ],
   "source": [
    "from scipy.stats import chi2_contingency #import the chi-square test model\n",
    "\n",
    "df.count()"
   ]
  },
  {
   "cell_type": "code",
   "execution_count": 37,
   "metadata": {},
   "outputs": [],
   "source": [
    "df['replied'] = df.ts_reply_at_first.notnull()\n",
    "\n",
    "df['accepted'] = df.ts_accepted_at_first.notnull()\n",
    "\n",
    "df['booked'] = df.ts_booking_at.notnull()\n",
    "\n",
    "df['messaged'] = df.m_first_message_length.apply(lambda x: 'messaged' if x>0.0 else 'no message')\n",
    "\n",
    "df['message_group'] = df.m_first_message_length.apply(lambda x: 'long message' if x> 140 else 'short message')\n",
    "\n",
    "binary_outcome = ['replied', 'accepted', 'booked', 'messaged', 'message_group', 'dim_contact_channel']"
   ]
  },
  {
   "cell_type": "markdown",
   "metadata": {},
   "source": [
    "# Part3: data testing"
   ]
  },
  {
   "cell_type": "markdown",
   "metadata": {},
   "source": [
    "## then we are gonna compute the chi-square test"
   ]
  },
  {
   "cell_type": "code",
   "execution_count": 10,
   "metadata": {},
   "outputs": [
    {
     "name": "stdout",
     "output_type": "stream",
     "text": [
      "Chi-square test of control group: replied Vs treatment group\n",
      "replied              False     True \n",
      "Experiment group                    \n",
      "control           0.148733  0.851267\n",
      "treatment         0.144037  0.855963\n",
      "replied           False  True \n",
      "Experiment group              \n",
      "control             810   4636\n",
      "treatment           785   4665\n",
      "(0.44395216930662335, 0.5052210539571169, 1, array([[ 797.20723201, 4648.79276799],\n",
      "       [ 797.79276799, 4652.20723201]]))\n",
      "\n",
      "\n",
      "Chi-square test of control group: accepted Vs treatment group\n",
      "accepted             False     True \n",
      "Experiment group                    \n",
      "control           0.669115  0.330885\n",
      "treatment         0.675596  0.324404\n",
      "accepted          False  True \n",
      "Experiment group              \n",
      "control            3644   1802\n",
      "treatment          3682   1768\n",
      "(0.49044234098998396, 0.4837300526070778, 1, array([[3661.65528634, 1784.34471366],\n",
      "       [3664.34471366, 1785.65528634]]))\n",
      "\n",
      "\n",
      "Chi-square test of control group: booked Vs treatment group\n",
      "booked               False     True \n",
      "Experiment group                    \n",
      "control           0.791957  0.208043\n",
      "treatment         0.792294  0.207706\n",
      "booked            False  True \n",
      "Experiment group              \n",
      "control            4313   1133\n",
      "treatment          4318   1132\n",
      "(0.0003853541464098933, 0.9843381814725782, 1, array([[4313.9157489, 1132.0842511],\n",
      "       [4317.0842511, 1132.9157489]]))\n",
      "\n",
      "\n",
      "Chi-square test of control group: messaged Vs treatment group\n",
      "messaged          messaged  no message\n",
      "Experiment group                      \n",
      "control           0.932244    0.067756\n",
      "treatment         0.998165    0.001835\n",
      "messaged          messaged  no message\n",
      "Experiment group                      \n",
      "control               5077         369\n",
      "treatment             5440          10\n",
      "(350.6223744977344, 3.1017663576184733e-78, 1, array([[5256.56956681,  189.43043319],\n",
      "       [5260.43043319,  189.56956681]]))\n",
      "\n",
      "\n",
      "Chi-square test of control group: message_group Vs treatment group\n",
      "message_group     long message  short message\n",
      "Experiment group                             \n",
      "control               0.792692       0.207308\n",
      "treatment             0.824404       0.175596\n",
      "message_group     long message  short message\n",
      "Experiment group                             \n",
      "control                   4317           1129\n",
      "treatment                 4493            957\n",
      "(17.492434675518904, 2.8845322501871524e-05, 1, array([[4403.3828928, 1042.6171072],\n",
      "       [4406.6171072, 1043.3828928]]))\n",
      "\n",
      "\n",
      "Chi-square test of control group: dim_contact_channel Vs treatment group\n",
      "dim_contact_channel   book_it  contact_me  instant_booked\n",
      "Experiment group                                         \n",
      "control              0.171869    0.824091        0.004040\n",
      "treatment            0.173578    0.822385        0.004037\n",
      "dim_contact_channel  book_it  contact_me  instant_booked\n",
      "Experiment group                                        \n",
      "control                  936        4488              22\n",
      "treatment                946        4482              22\n",
      "(0.05567991945459982, 0.9725440005541421, 2, array([[ 940.65455213, 4483.35352423,   21.99192364],\n",
      "       [ 941.34544787, 4486.64647577,   22.00807636]]))\n",
      "\n",
      "\n"
     ]
    }
   ],
   "source": [
    "from scipy import stats\n",
    "\n",
    "for i in binary_outcome:\n",
    "    print \"Chi-square test of control group: \" + i + \" Vs treatment group\"\n",
    "    print grouped_contracts[i].value_counts(2).unstack().fillna(0)\n",
    "    print grouped_contracts[i].value_counts().unstack().fillna(0)\n",
    "    print stats.chi2_contingency(grouped_contracts[i].value_counts().unstack().fillna(0))\n",
    "    print \"\\n\""
   ]
  },
  {
   "cell_type": "markdown",
   "metadata": {},
   "source": [
    "we can plot them out, the result would be more obvious"
   ]
  },
  {
   "cell_type": "code",
   "execution_count": 11,
   "metadata": {},
   "outputs": [
    {
     "data": {
      "text/plain": [
       "<matplotlib.legend.Legend at 0x191d32db50>"
      ]
     },
     "execution_count": 11,
     "metadata": {},
     "output_type": "execute_result"
    },
    {
     "data": {
      "image/png": "[encoded data removed]",
      "text/plain": [
       "<Figure size 432x288 with 1 Axes>"
      ]
     },
     "metadata": {
      "needs_background": "light"
     },
     "output_type": "display_data"
    }
   ],
   "source": [
    "grouped_contracts['messaged'].value_counts(2).unstack().fillna(0).plot(kind=\"bar\",color=['lightcoral','yellow'],rot='horizontal',\\\n",
    "                                    title='Messaged rate by experiment group')\n",
    "plt.legend(bbox_to_anchor=(1.05, 1), loc=2, borderaxespad=0)"
   ]
  },
  {
   "cell_type": "code",
   "execution_count": 12,
   "metadata": {},
   "outputs": [
    {
     "data": {
      "text/plain": [
       "<matplotlib.legend.Legend at 0x191d32d4d0>"
      ]
     },
     "execution_count": 12,
     "metadata": {},
     "output_type": "execute_result"
    },
    {
     "data": {
      "image/png": "[encoded data removed]",
      "text/plain": [
       "<Figure size 432x288 with 1 Axes>"
      ]
     },
     "metadata": {
      "needs_background": "light"
     },
     "output_type": "display_data"
    }
   ],
   "source": [
    "grouped_contracts['message_group'].value_counts(2).unstack().fillna(0).plot(kind=\"bar\",color=['lightcoral','yellow'],rot='horizontal',\\\n",
    "                                    title='% of long message by experiment group')\n",
    "plt.legend(bbox_to_anchor=(1.05, 1), loc=2, borderaxespad=0)"
   ]
  },
  {
   "cell_type": "markdown",
   "metadata": {},
   "source": [
    "## Define continuous outcomes"
   ]
  },
  {
   "cell_type": "code",
   "execution_count": 13,
   "metadata": {},
   "outputs": [
    {
     "data": {
      "text/plain": [
       "array([<matplotlib.axes._subplots.AxesSubplot object at 0x1a1d517250>,\n",
       "       <matplotlib.axes._subplots.AxesSubplot object at 0x1a1d64fb90>],\n",
       "      dtype=object)"
      ]
     },
     "execution_count": 13,
     "metadata": {},
     "output_type": "execute_result"
    },
    {
     "data": {
      "image/png": "[encoded data removed]",
      "text/plain": [
       "<Figure size 432x288 with 2 Axes>"
      ]
     },
     "metadata": {
      "needs_background": "light"
     },
     "output_type": "display_data"
    }
   ],
   "source": [
    "df.m_first_message_length.hist(bins = 100, by = df.ab)"
   ]
  },
  {
   "cell_type": "markdown",
   "metadata": {},
   "source": [
    "from the plot we can see that the test make people to make more long message"
   ]
  },
  {
   "cell_type": "markdown",
   "metadata": {},
   "source": [
    "## Do t-test for continous variable"
   ]
  },
  {
   "cell_type": "code",
   "execution_count": 14,
   "metadata": {},
   "outputs": [],
   "source": [
    "import datetime\n",
    "df['ts_reply_at_first'] = df.ts_reply_at_first.apply(lambda x: pd.Timestamp(x))\n",
    "df['ts_interaction_first'] = df.ts_interaction_first.apply(lambda x: pd.Timestamp(x))\n",
    "df['ts_accepted_at_first']= df.ts_accepted_at_first.apply(lambda x: pd.Timestamp(x))\n",
    "df['ts_booking_at']= df.ts_booking_at.apply(lambda x: pd.Timestamp(x))\n",
    "\n",
    "\n",
    "#df['reply_time']=(df.ts_reply_at_first- df.ts_interaction_first)\n",
    "df['reply_time_h']=(df.ts_reply_at_first-df.ts_interaction_first)/np.timedelta64(1, 'h')\n",
    "df['accept_time_h']=(df.ts_accepted_at_first-df.ts_interaction_first)/np.timedelta64(1, 'h')\n",
    "df['booking_time_h']=(df.ts_booking_at-df.ts_interaction_first)/np.timedelta64(1, 'h')"
   ]
  },
  {
   "cell_type": "code",
   "execution_count": 15,
   "metadata": {},
   "outputs": [
    {
     "data": {
      "text/html": [
       "<div>\n",
       "<style scoped>\n",
       "    .dataframe tbody tr th:only-of-type {\n",
       "        vertical-align: middle;\n",
       "    }\n",
       "\n",
       "    .dataframe tbody tr th {\n",
       "        vertical-align: top;\n",
       "    }\n",
       "\n",
       "    .dataframe thead th {\n",
       "        text-align: right;\n",
       "    }\n",
       "</style>\n",
       "<table border=\"1\" class=\"dataframe\">\n",
       "  <thead>\n",
       "    <tr style=\"text-align: right;\">\n",
       "      <th></th>\n",
       "      <th>reply_time_h</th>\n",
       "      <th>accept_time_h</th>\n",
       "      <th>booking_time_h</th>\n",
       "      <th>m_first_message_length</th>\n",
       "    </tr>\n",
       "  </thead>\n",
       "  <tbody>\n",
       "    <tr>\n",
       "      <th>count</th>\n",
       "      <td>9301.000000</td>\n",
       "      <td>3570.000000</td>\n",
       "      <td>2265.000000</td>\n",
       "      <td>10774.000000</td>\n",
       "    </tr>\n",
       "    <tr>\n",
       "      <th>mean</th>\n",
       "      <td>48.745632</td>\n",
       "      <td>28.414022</td>\n",
       "      <td>45.376143</td>\n",
       "      <td>325.899759</td>\n",
       "    </tr>\n",
       "    <tr>\n",
       "      <th>std</th>\n",
       "      <td>407.023777</td>\n",
       "      <td>302.762954</td>\n",
       "      <td>382.221049</td>\n",
       "      <td>234.488860</td>\n",
       "    </tr>\n",
       "    <tr>\n",
       "      <th>min</th>\n",
       "      <td>-0.027778</td>\n",
       "      <td>-0.027778</td>\n",
       "      <td>-0.027778</td>\n",
       "      <td>0.000000</td>\n",
       "    </tr>\n",
       "    <tr>\n",
       "      <th>25%</th>\n",
       "      <td>0.557222</td>\n",
       "      <td>0.412222</td>\n",
       "      <td>0.788611</td>\n",
       "      <td>168.000000</td>\n",
       "    </tr>\n",
       "    <tr>\n",
       "      <th>50%</th>\n",
       "      <td>3.921667</td>\n",
       "      <td>2.939861</td>\n",
       "      <td>6.309722</td>\n",
       "      <td>273.000000</td>\n",
       "    </tr>\n",
       "    <tr>\n",
       "      <th>75%</th>\n",
       "      <td>16.716389</td>\n",
       "      <td>14.423750</td>\n",
       "      <td>24.501111</td>\n",
       "      <td>421.000000</td>\n",
       "    </tr>\n",
       "    <tr>\n",
       "      <th>max</th>\n",
       "      <td>14026.655556</td>\n",
       "      <td>16102.172500</td>\n",
       "      <td>16102.172500</td>\n",
       "      <td>3182.000000</td>\n",
       "    </tr>\n",
       "  </tbody>\n",
       "</table>\n",
       "</div>"
      ],
      "text/plain": [
       "       reply_time_h  accept_time_h  booking_time_h  m_first_message_length\n",
       "count   9301.000000    3570.000000     2265.000000            10774.000000\n",
       "mean      48.745632      28.414022       45.376143              325.899759\n",
       "std      407.023777     302.762954      382.221049              234.488860\n",
       "min       -0.027778      -0.027778       -0.027778                0.000000\n",
       "25%        0.557222       0.412222        0.788611              168.000000\n",
       "50%        3.921667       2.939861        6.309722              273.000000\n",
       "75%       16.716389      14.423750       24.501111              421.000000\n",
       "max    14026.655556   16102.172500    16102.172500             3182.000000"
      ]
     },
     "execution_count": 15,
     "metadata": {},
     "output_type": "execute_result"
    }
   ],
   "source": [
    "df[['reply_time_h','accept_time_h','booking_time_h','m_first_message_length']].describe()"
   ]
  },
  {
   "cell_type": "markdown",
   "metadata": {},
   "source": [
    "next, we are gonna dig deeper"
   ]
  },
  {
   "cell_type": "code",
   "execution_count": 16,
   "metadata": {},
   "outputs": [
    {
     "name": "stdout",
     "output_type": "stream",
     "text": [
      "164\n",
      "115\n",
      "92\n"
     ]
    }
   ],
   "source": [
    "print df.reply_time_h[df.reply_time_h<0].count()\n",
    "print df.accept_time_h[df.accept_time_h<0].count()\n",
    "print df.booking_time_h[df.booking_time_h<0].count()"
   ]
  },
  {
   "cell_type": "markdown",
   "metadata": {},
   "source": [
    "Because they are really low compare to the total amount of data, so we can use 0 instead of it"
   ]
  },
  {
   "cell_type": "code",
   "execution_count": 17,
   "metadata": {},
   "outputs": [],
   "source": [
    "df.reply_time_h = df.reply_time_h.apply(lambda x: 0 if x<0 else x)\n",
    "df.accept_time_h = df.accept_time_h.apply(lambda x: 0 if x<0 else x)\n",
    "df.booking_time_h = df.booking_time_h.apply(lambda x: 0 if x<0 else x)"
   ]
  },
  {
   "cell_type": "markdown",
   "metadata": {},
   "source": [
    "Then we will check the extremely large "
   ]
  },
  {
   "cell_type": "code",
   "execution_count": 18,
   "metadata": {},
   "outputs": [
    {
     "name": "stdout",
     "output_type": "stream",
     "text": [
      "335\n",
      "71\n",
      "94\n"
     ]
    }
   ],
   "source": [
    "print df.reply_time_h[df.reply_time_h>168].count()\n",
    "print df.accept_time_h[df.accept_time_h>168].count()\n",
    "print df.booking_time_h[df.booking_time_h>168].count()"
   ]
  },
  {
   "cell_type": "code",
   "execution_count": 19,
   "metadata": {},
   "outputs": [
    {
     "data": {
      "text/html": [
       "<div>\n",
       "<style scoped>\n",
       "    .dataframe tbody tr th:only-of-type {\n",
       "        vertical-align: middle;\n",
       "    }\n",
       "\n",
       "    .dataframe tbody tr th {\n",
       "        vertical-align: top;\n",
       "    }\n",
       "\n",
       "    .dataframe thead tr th {\n",
       "        text-align: left;\n",
       "    }\n",
       "\n",
       "    .dataframe thead tr:last-of-type th {\n",
       "        text-align: right;\n",
       "    }\n",
       "</style>\n",
       "<table border=\"1\" class=\"dataframe\">\n",
       "  <thead>\n",
       "    <tr>\n",
       "      <th></th>\n",
       "      <th colspan=\"8\" halign=\"left\">accept_time_h</th>\n",
       "      <th colspan=\"2\" halign=\"left\">booking_time_h</th>\n",
       "      <th>...</th>\n",
       "      <th colspan=\"2\" halign=\"left\">m_first_message_length</th>\n",
       "      <th colspan=\"8\" halign=\"left\">reply_time_h</th>\n",
       "    </tr>\n",
       "    <tr>\n",
       "      <th></th>\n",
       "      <th>count</th>\n",
       "      <th>mean</th>\n",
       "      <th>std</th>\n",
       "      <th>min</th>\n",
       "      <th>25%</th>\n",
       "      <th>50%</th>\n",
       "      <th>75%</th>\n",
       "      <th>max</th>\n",
       "      <th>count</th>\n",
       "      <th>mean</th>\n",
       "      <th>...</th>\n",
       "      <th>75%</th>\n",
       "      <th>max</th>\n",
       "      <th>count</th>\n",
       "      <th>mean</th>\n",
       "      <th>std</th>\n",
       "      <th>min</th>\n",
       "      <th>25%</th>\n",
       "      <th>50%</th>\n",
       "      <th>75%</th>\n",
       "      <th>max</th>\n",
       "    </tr>\n",
       "    <tr>\n",
       "      <th>Experiment group</th>\n",
       "      <th></th>\n",
       "      <th></th>\n",
       "      <th></th>\n",
       "      <th></th>\n",
       "      <th></th>\n",
       "      <th></th>\n",
       "      <th></th>\n",
       "      <th></th>\n",
       "      <th></th>\n",
       "      <th></th>\n",
       "      <th></th>\n",
       "      <th></th>\n",
       "      <th></th>\n",
       "      <th></th>\n",
       "      <th></th>\n",
       "      <th></th>\n",
       "      <th></th>\n",
       "      <th></th>\n",
       "      <th></th>\n",
       "      <th></th>\n",
       "      <th></th>\n",
       "    </tr>\n",
       "  </thead>\n",
       "  <tbody>\n",
       "    <tr>\n",
       "      <th>control</th>\n",
       "      <td>1802.0</td>\n",
       "      <td>36.507808</td>\n",
       "      <td>415.880079</td>\n",
       "      <td>0.0</td>\n",
       "      <td>0.395139</td>\n",
       "      <td>2.815417</td>\n",
       "      <td>15.193542</td>\n",
       "      <td>16102.172500</td>\n",
       "      <td>1133.0</td>\n",
       "      <td>55.272152</td>\n",
       "      <td>...</td>\n",
       "      <td>424.0</td>\n",
       "      <td>2654.0</td>\n",
       "      <td>4636.0</td>\n",
       "      <td>47.984875</td>\n",
       "      <td>402.982305</td>\n",
       "      <td>0.0</td>\n",
       "      <td>0.557986</td>\n",
       "      <td>3.913056</td>\n",
       "      <td>16.660694</td>\n",
       "      <td>13411.246944</td>\n",
       "    </tr>\n",
       "    <tr>\n",
       "      <th>treatment</th>\n",
       "      <td>1768.0</td>\n",
       "      <td>20.165879</td>\n",
       "      <td>93.420169</td>\n",
       "      <td>0.0</td>\n",
       "      <td>0.435208</td>\n",
       "      <td>3.047917</td>\n",
       "      <td>14.091458</td>\n",
       "      <td>2542.484167</td>\n",
       "      <td>1132.0</td>\n",
       "      <td>35.473247</td>\n",
       "      <td>...</td>\n",
       "      <td>417.0</td>\n",
       "      <td>3182.0</td>\n",
       "      <td>4665.0</td>\n",
       "      <td>49.502275</td>\n",
       "      <td>411.042491</td>\n",
       "      <td>0.0</td>\n",
       "      <td>0.551667</td>\n",
       "      <td>3.956667</td>\n",
       "      <td>16.729444</td>\n",
       "      <td>14026.655556</td>\n",
       "    </tr>\n",
       "  </tbody>\n",
       "</table>\n",
       "<p>2 rows × 32 columns</p>\n",
       "</div>"
      ],
      "text/plain": [
       "                 accept_time_h                                        \\\n",
       "                         count       mean         std  min       25%   \n",
       "Experiment group                                                       \n",
       "control                 1802.0  36.507808  415.880079  0.0  0.395139   \n",
       "treatment               1768.0  20.165879   93.420169  0.0  0.435208   \n",
       "\n",
       "                                                    booking_time_h             \\\n",
       "                       50%        75%           max          count       mean   \n",
       "Experiment group                                                                \n",
       "control           2.815417  15.193542  16102.172500         1133.0  55.272152   \n",
       "treatment         3.047917  14.091458   2542.484167         1132.0  35.473247   \n",
       "\n",
       "                      ...      m_first_message_length         reply_time_h  \\\n",
       "                      ...                         75%     max        count   \n",
       "Experiment group      ...                                                    \n",
       "control               ...                       424.0  2654.0       4636.0   \n",
       "treatment             ...                       417.0  3182.0       4665.0   \n",
       "\n",
       "                                                                             \\\n",
       "                       mean         std  min       25%       50%        75%   \n",
       "Experiment group                                                              \n",
       "control           47.984875  402.982305  0.0  0.557986  3.913056  16.660694   \n",
       "treatment         49.502275  411.042491  0.0  0.551667  3.956667  16.729444   \n",
       "\n",
       "                                \n",
       "                           max  \n",
       "Experiment group                \n",
       "control           13411.246944  \n",
       "treatment         14026.655556  \n",
       "\n",
       "[2 rows x 32 columns]"
      ]
     },
     "execution_count": 19,
     "metadata": {},
     "output_type": "execute_result"
    }
   ],
   "source": [
    "grouped_contracts.describe()"
   ]
  },
  {
   "cell_type": "code",
   "execution_count": 36,
   "metadata": {},
   "outputs": [
    {
     "name": "stdout",
     "output_type": "stream",
     "text": [
      "t-test for m_first_message_length between treatment and control group: t = -0.0452642  p = 0.963898\n"
     ]
    }
   ],
   "source": [
    "df.m_first_message_length.dropna()\n",
    "\n",
    "from scipy.stats import ttest_ind\n",
    "np.random.seed(12345678)\n",
    "\n",
    "t, p = ttest_ind(df.m_first_message_length[df.ab==\"treatment\"], \\\n",
    "df.m_first_message_length[df.ab==\"control\"], equal_var=False,nan_policy=\"omit\")\n",
    "print \"t-test for m_first_message_length between treatment and control group: t = %g  p = %g\" % (t, p)\n",
    "\n"
   ]
  },
  {
   "cell_type": "markdown",
   "metadata": {},
   "source": [
    "# no significant difference of average message length in the two groups at 95% confidence level."
   ]
  },
  {
   "cell_type": "code",
   "execution_count": 44,
   "metadata": {},
   "outputs": [
    {
     "name": "stdout",
     "output_type": "stream",
     "text": [
      "long message     8810\n",
      "short message    2086\n",
      "Name: message_group, dtype: int64\n",
      "Series([], Name: message_group, dtype: int64)\n"
     ]
    }
   ],
   "source": [
    "print df[df.ab.notnull()].message_group.value_counts()\n",
    "print df[df.ab.isnull()].message_group.value_counts()\n",
    "#although there are some records with missing value for treatment and control, those records can still be used in testing\n",
    "#the impact of long message(>140) Vs not."
   ]
  },
  {
   "cell_type": "markdown",
   "metadata": {},
   "source": [
    "## Although in the homework description it says: We \"required\" the guest to write a message that's at least 140 characters long. But I still see lots of m_first_message_length value less than 140 in the treatment group. So I think the experiment is conducted in a way that only \"ask\" but not \"force\" user to submit a message that's more than 140 characters long. Even the first message is less than 140 characters, the user still can submit the inqury.Therefore, it might worth to check the acceptance rate, response rate, booking rate for those people who send long message (if we define long message as more than 140 characters)no matter which group those users belong to. I only use those contact_me records since most of the users do not send long message when they use book it or instant book."
   ]
  },
  {
   "cell_type": "code",
   "execution_count": 46,
   "metadata": {},
   "outputs": [
    {
     "data": {
      "text/plain": [
       "array([[<matplotlib.axes._subplots.AxesSubplot object at 0x11652ed50>,\n",
       "        <matplotlib.axes._subplots.AxesSubplot object at 0x11653da50>],\n",
       "       [<matplotlib.axes._subplots.AxesSubplot object at 0x1165b0810>,\n",
       "        <matplotlib.axes._subplots.AxesSubplot object at 0x1166325d0>]],\n",
       "      dtype=object)"
      ]
     },
     "execution_count": 46,
     "metadata": {},
     "output_type": "execute_result"
    },
    {
     "data": {
      "image/png": "[encoded data removed]",
      "text/plain": [
       "<Figure size 576x576 with 4 Axes>"
      ]
     },
     "metadata": {
      "needs_background": "light"
     },
     "output_type": "display_data"
    }
   ],
   "source": [
    "df.m_first_message_length.hist(bins=100, by=df.dim_contact_channel,figsize=(8,8))\n",
    "#so basically this test only impact those people who book through \"contact me\" or \"book_it\""
   ]
  },
  {
   "cell_type": "code",
   "execution_count": 47,
   "metadata": {},
   "outputs": [
    {
     "name": "stdout",
     "output_type": "stream",
     "text": [
      "Chi-square test of contingency table: replied Vs message group\n",
      "replied           False     True \n",
      "message_group                    \n",
      "long message   0.158724  0.841276\n",
      "short message  0.157364  0.842636\n",
      "(0.0068099855080616814, 0.9342311185286858, 1, array([[1217.49832776, 6462.50167224],\n",
      "       [ 204.50167224, 1085.49832776]]))\n",
      "\n",
      "\n",
      "Chi-square test of contingency table: accepted Vs message group\n",
      "accepted          False     True \n",
      "message_group                    \n",
      "long message   0.723568  0.276432\n",
      "short message  0.733333  0.266667\n",
      "(0.48043272430723394, 0.488226375659801, 1, array([[5567.78595318, 2112.21404682],\n",
      "       [ 935.21404682,  354.78595318]]))\n",
      "\n",
      "\n",
      "Chi-square test of contingency table: booked Vs message group\n",
      "booked            False     True \n",
      "message_group                    \n",
      "long message   0.867708  0.132292\n",
      "short message  0.878295  0.121705\n",
      "(0.997792268629769, 0.3178453045659588, 1, array([[6675.69230769, 1004.30769231],\n",
      "       [1121.30769231,  168.69230769]]))\n",
      "\n",
      "\n"
     ]
    }
   ],
   "source": [
    "grouped_by_long_message=df[df.dim_contact_channel=='contact_me'].groupby(['message_group'])\n",
    "binary_outcome=['replied','accepted','booked']\n",
    "for i in binary_outcome:\n",
    "    print \"Chi-square test of contingency table: \" + i + \" Vs message group\"\n",
    "    print grouped_by_long_message[i].value_counts(2).unstack().fillna(0)\n",
    "    print stats.chi2_contingency(grouped_by_long_message[i].value_counts().unstack().fillna(0))\n",
    "    print \"\\n\""
   ]
  },
  {
   "cell_type": "markdown",
   "metadata": {},
   "source": [
    "## No significant difference in reply rate, acceptance rate, booking rate between different message group."
   ]
  },
  {
   "cell_type": "code",
   "execution_count": 49,
   "metadata": {},
   "outputs": [
    {
     "data": {
      "text/plain": [
       "<matplotlib.legend.Legend at 0x11b2580d0>"
      ]
     },
     "execution_count": 49,
     "metadata": {},
     "output_type": "execute_result"
    },
    {
     "data": {
      "image/png": "[encoded data removed]",
      "text/plain": [
       "<Figure size 432x288 with 1 Axes>"
      ]
     },
     "metadata": {
      "needs_background": "light"
     },
     "output_type": "display_data"
    }
   ],
   "source": [
    "grouped_by_long_message['booked'].value_counts(2).unstack().fillna(0).plot(kind=\"bar\",color=['r','g'],rot='horizontal',\\\n",
    "                                    title='Booking rate by Message group')\n",
    "plt.legend(bbox_to_anchor=(1.05, 1), loc=2, borderaxespad=0)"
   ]
  },
  {
   "cell_type": "code",
   "execution_count": 50,
   "metadata": {},
   "outputs": [
    {
     "data": {
      "text/plain": [
       "<matplotlib.legend.Legend at 0x11669e2d0>"
      ]
     },
     "execution_count": 50,
     "metadata": {},
     "output_type": "execute_result"
    },
    {
     "data": {
      "image/png": "[encoded data removed]",
      "text/plain": [
       "<Figure size 432x288 with 1 Axes>"
      ]
     },
     "metadata": {
      "needs_background": "light"
     },
     "output_type": "display_data"
    }
   ],
   "source": [
    "grouped_by_long_message['accepted'].value_counts(2).unstack().fillna(0).plot(kind=\"bar\",color=['r','g'],rot='horizontal',\\\n",
    "                                    title='Acceptance rate by Message group')\n",
    "plt.legend(bbox_to_anchor=(1.05, 1), loc=2, borderaxespad=0)"
   ]
  },
  {
   "cell_type": "code",
   "execution_count": 51,
   "metadata": {},
   "outputs": [
    {
     "data": {
      "text/html": [
       "<div>\n",
       "<style scoped>\n",
       "    .dataframe tbody tr th:only-of-type {\n",
       "        vertical-align: middle;\n",
       "    }\n",
       "\n",
       "    .dataframe tbody tr th {\n",
       "        vertical-align: top;\n",
       "    }\n",
       "\n",
       "    .dataframe thead tr th {\n",
       "        text-align: left;\n",
       "    }\n",
       "\n",
       "    .dataframe thead tr:last-of-type th {\n",
       "        text-align: right;\n",
       "    }\n",
       "</style>\n",
       "<table border=\"1\" class=\"dataframe\">\n",
       "  <thead>\n",
       "    <tr>\n",
       "      <th></th>\n",
       "      <th colspan=\"8\" halign=\"left\">accept_time_h</th>\n",
       "      <th colspan=\"2\" halign=\"left\">booking_time_h</th>\n",
       "      <th>...</th>\n",
       "      <th colspan=\"2\" halign=\"left\">m_first_message_length</th>\n",
       "      <th colspan=\"8\" halign=\"left\">reply_time_h</th>\n",
       "    </tr>\n",
       "    <tr>\n",
       "      <th></th>\n",
       "      <th>count</th>\n",
       "      <th>mean</th>\n",
       "      <th>std</th>\n",
       "      <th>min</th>\n",
       "      <th>25%</th>\n",
       "      <th>50%</th>\n",
       "      <th>75%</th>\n",
       "      <th>max</th>\n",
       "      <th>count</th>\n",
       "      <th>mean</th>\n",
       "      <th>...</th>\n",
       "      <th>75%</th>\n",
       "      <th>max</th>\n",
       "      <th>count</th>\n",
       "      <th>mean</th>\n",
       "      <th>std</th>\n",
       "      <th>min</th>\n",
       "      <th>25%</th>\n",
       "      <th>50%</th>\n",
       "      <th>75%</th>\n",
       "      <th>max</th>\n",
       "    </tr>\n",
       "    <tr>\n",
       "      <th>message_group</th>\n",
       "      <th></th>\n",
       "      <th></th>\n",
       "      <th></th>\n",
       "      <th></th>\n",
       "      <th></th>\n",
       "      <th></th>\n",
       "      <th></th>\n",
       "      <th></th>\n",
       "      <th></th>\n",
       "      <th></th>\n",
       "      <th></th>\n",
       "      <th></th>\n",
       "      <th></th>\n",
       "      <th></th>\n",
       "      <th></th>\n",
       "      <th></th>\n",
       "      <th></th>\n",
       "      <th></th>\n",
       "      <th></th>\n",
       "      <th></th>\n",
       "      <th></th>\n",
       "    </tr>\n",
       "  </thead>\n",
       "  <tbody>\n",
       "    <tr>\n",
       "      <th>long message</th>\n",
       "      <td>2123.0</td>\n",
       "      <td>40.357417</td>\n",
       "      <td>388.037741</td>\n",
       "      <td>0.0</td>\n",
       "      <td>0.622917</td>\n",
       "      <td>4.296667</td>\n",
       "      <td>19.263472</td>\n",
       "      <td>16102.172500</td>\n",
       "      <td>1016.0</td>\n",
       "      <td>85.116850</td>\n",
       "      <td>...</td>\n",
       "      <td>465.0</td>\n",
       "      <td>3182.0</td>\n",
       "      <td>6461.0</td>\n",
       "      <td>51.734619</td>\n",
       "      <td>380.519968</td>\n",
       "      <td>0.0</td>\n",
       "      <td>0.69250</td>\n",
       "      <td>4.624722</td>\n",
       "      <td>19.093889</td>\n",
       "      <td>13411.246944</td>\n",
       "    </tr>\n",
       "    <tr>\n",
       "      <th>short message</th>\n",
       "      <td>344.0</td>\n",
       "      <td>14.413009</td>\n",
       "      <td>30.640603</td>\n",
       "      <td>0.0</td>\n",
       "      <td>0.514583</td>\n",
       "      <td>2.834722</td>\n",
       "      <td>15.233333</td>\n",
       "      <td>281.364444</td>\n",
       "      <td>157.0</td>\n",
       "      <td>30.474519</td>\n",
       "      <td>...</td>\n",
       "      <td>123.0</td>\n",
       "      <td>140.0</td>\n",
       "      <td>1087.0</td>\n",
       "      <td>47.772336</td>\n",
       "      <td>326.501315</td>\n",
       "      <td>0.0</td>\n",
       "      <td>0.40625</td>\n",
       "      <td>3.035556</td>\n",
       "      <td>18.006806</td>\n",
       "      <td>8109.244444</td>\n",
       "    </tr>\n",
       "  </tbody>\n",
       "</table>\n",
       "<p>2 rows × 32 columns</p>\n",
       "</div>"
      ],
      "text/plain": [
       "              accept_time_h                                                  \\\n",
       "                      count       mean         std  min       25%       50%   \n",
       "message_group                                                                 \n",
       "long message         2123.0  40.357417  388.037741  0.0  0.622917  4.296667   \n",
       "short message         344.0  14.413009   30.640603  0.0  0.514583  2.834722   \n",
       "\n",
       "                                       booking_time_h             \\\n",
       "                     75%           max          count       mean   \n",
       "message_group                                                      \n",
       "long message   19.263472  16102.172500         1016.0  85.116850   \n",
       "short message  15.233333    281.364444          157.0  30.474519   \n",
       "\n",
       "                   ...      m_first_message_length         reply_time_h  \\\n",
       "                   ...                         75%     max        count   \n",
       "message_group      ...                                                    \n",
       "long message       ...                       465.0  3182.0       6461.0   \n",
       "short message      ...                       123.0   140.0       1087.0   \n",
       "\n",
       "                                                                         \\\n",
       "                    mean         std  min      25%       50%        75%   \n",
       "message_group                                                             \n",
       "long message   51.734619  380.519968  0.0  0.69250  4.624722  19.093889   \n",
       "short message  47.772336  326.501315  0.0  0.40625  3.035556  18.006806   \n",
       "\n",
       "                             \n",
       "                        max  \n",
       "message_group                \n",
       "long message   13411.246944  \n",
       "short message   8109.244444  \n",
       "\n",
       "[2 rows x 32 columns]"
      ]
     },
     "execution_count": 51,
     "metadata": {},
     "output_type": "execute_result"
    }
   ],
   "source": [
    "grouped_by_long_message.describe()"
   ]
  },
  {
   "cell_type": "markdown",
   "metadata": {},
   "source": [
    "## When user choose contact_me, long message does not make host reply faster and does not increase acceptance rate and booking rate."
   ]
  },
  {
   "cell_type": "code",
   "execution_count": 52,
   "metadata": {},
   "outputs": [
    {
     "name": "stdout",
     "output_type": "stream",
     "text": [
      "Chi-square test of contingency table: replied Vs message group\n",
      "replied           False     True \n",
      "message_group                    \n",
      "long message   0.087466  0.912534\n",
      "short message  0.098318  0.901682\n",
      "(0.5192072397853715, 0.4711800469496896, 1, array([[ 101.94314559, 1007.05685441],\n",
      "       [  71.05685441,  701.94314559]]))\n",
      "\n",
      "\n",
      "Chi-square test of contingency table: accepted Vs message group\n",
      "accepted          False     True \n",
      "message_group                    \n",
      "long message   0.458972  0.541028\n",
      "short message  0.406210  0.593790\n",
      "(4.9411056985081165, 0.026225255098907628, 1, array([[484.96652497, 624.03347503],\n",
      "       [338.03347503, 434.96652497]]))\n",
      "\n",
      "\n",
      "Chi-square test of contingency table: booked Vs message group\n",
      "booked            False     True \n",
      "message_group                    \n",
      "long message   0.464382  0.535618\n",
      "short message  0.412678  0.587322\n",
      "(4.727378845102738, 0.029686092778746474, 1, array([[491.44845909, 617.55154091],\n",
      "       [342.55154091, 430.44845909]]))\n",
      "\n",
      "\n"
     ]
    }
   ],
   "source": [
    "grouped_by_long_message=df[df.dim_contact_channel=='book_it'].groupby(['message_group'])\n",
    "binary_outcome=['replied','accepted','booked']\n",
    "for i in binary_outcome:\n",
    "    print \"Chi-square test of contingency table: \" + i + \" Vs message group\"\n",
    "    print grouped_by_long_message[i].value_counts(2).unstack().fillna(0)\n",
    "    print stats.chi2_contingency(grouped_by_long_message[i].value_counts().unstack().fillna(0))\n",
    "    print \"\\n\""
   ]
  },
  {
   "cell_type": "markdown",
   "metadata": {},
   "source": [
    "so people who use instant_booked or book_it tends to have a much  lower chance to send long message"
   ]
  },
  {
   "cell_type": "code",
   "execution_count": 53,
   "metadata": {},
   "outputs": [
    {
     "name": "stdout",
     "output_type": "stream",
     "text": [
      "dim_contact_channel  message_group\n",
      "book_it              long message     1109\n",
      "                     short message     773\n",
      "contact_me           long message     7680\n",
      "                     short message    1290\n",
      "instant_booked       short message      23\n",
      "                     long message       21\n",
      "Name: message_group, dtype: int64\n",
      "dim_contact_channel  message_group\n",
      "book_it              long message     0.589267\n",
      "                     short message    0.410733\n",
      "contact_me           long message     0.856187\n",
      "                     short message    0.143813\n",
      "instant_booked       short message    0.522727\n",
      "                     long message     0.477273\n",
      "Name: message_group, dtype: float64\n"
     ]
    },
    {
     "data": {
      "text/plain": [
       "<matplotlib.axes._subplots.AxesSubplot at 0x1a1e1da850>"
      ]
     },
     "execution_count": 53,
     "metadata": {},
     "output_type": "execute_result"
    },
    {
     "data": {
      "image/png": "[encoded data removed]",
      "text/plain": [
       "<Figure size 432x288 with 1 Axes>"
      ]
     },
     "metadata": {
      "needs_background": "light"
     },
     "output_type": "display_data"
    }
   ],
   "source": [
    "b=df.groupby(['dim_contact_channel'])\n",
    "print b.message_group.value_counts()\n",
    "print b.message_group.value_counts(2)\n",
    "b.message_group.value_counts(2).unstack().plot(kind=\"bar\",rot='horizontal',\\\n",
    "                                    title='Percentage of contact channels by message group')"
   ]
  },
  {
   "cell_type": "markdown",
   "metadata": {},
   "source": [
    "# Conclusion"
   ]
  },
  {
   "cell_type": "markdown",
   "metadata": {},
   "source": [
    "## A)  no significant difference of average message length in the two groups at 95% confidence level."
   ]
  },
  {
   "cell_type": "markdown",
   "metadata": {},
   "source": [
    "## B)  When user choose contact_me, long message does not make host reply faster and does not increase acceptance rate and booking rate."
   ]
  },
  {
   "cell_type": "markdown",
   "metadata": {},
   "source": [
    "## C) No significant difference in reply rate, acceptance rate, booking rate between different message group."
   ]
  },
  {
   "cell_type": "markdown",
   "metadata": {},
   "source": [
    "### Thanks for watching!"
   ]
  },
  {
   "cell_type": "code",
   "execution_count": null,
   "metadata": {},
   "outputs": [],
   "source": []
  }
 ],
 "metadata": {
  "kernelspec": {
   "display_name": "Python 2",
   "language": "python",
   "name": "python2"
  },
  "language_info": {
   "codemirror_mode": {
    "name": "ipython",
    "version": 2
   },
   "file_extension": ".py",
   "mimetype": "text/x-python",
   "name": "python",
   "nbconvert_exporter": "python",
   "pygments_lexer": "ipython2",
   "version": "2.7.15"
  }
 },
 "nbformat": 4,
 "nbformat_minor": 2
}
